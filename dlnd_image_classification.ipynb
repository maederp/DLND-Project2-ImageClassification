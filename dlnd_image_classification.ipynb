{
 "cells": [
  {
   "cell_type": "markdown",
   "metadata": {
    "collapsed": true,
    "deletable": true,
    "editable": true
   },
   "source": [
    "# Image Classification\n",
    "In this project, you'll classify images from the [CIFAR-10 dataset](https://www.cs.toronto.edu/~kriz/cifar.html).  The dataset consists of airplanes, dogs, cats, and other objects. You'll preprocess the images, then train a convolutional neural network on all the samples. The images need to be normalized and the labels need to be one-hot encoded.  You'll get to apply what you learned and build a convolutional, max pooling, dropout, and fully connected layers.  At the end, you'll get to see your neural network's predictions on the sample images.\n",
    "## Get the Data\n",
    "Run the following cell to download the [CIFAR-10 dataset for python](https://www.cs.toronto.edu/~kriz/cifar-10-python.tar.gz)."
   ]
  },
  {
   "cell_type": "code",
   "execution_count": null,
   "metadata": {
    "collapsed": false,
    "deletable": true,
    "editable": true
   },
   "outputs": [],
   "source": [
    "\"\"\"\n",
    "DON'T MODIFY ANYTHING IN THIS CELL THAT IS BELOW THIS LINE\n",
    "\"\"\"\n",
    "from urllib.request import urlretrieve\n",
    "from os.path import isfile, isdir\n",
    "from tqdm import tqdm\n",
    "import problem_unittests as tests\n",
    "import tarfile\n",
    "\n",
    "cifar10_dataset_folder_path = 'cifar-10-batches-py'\n",
    "\n",
    "class DLProgress(tqdm):\n",
    "    last_block = 0\n",
    "\n",
    "    def hook(self, block_num=1, block_size=1, total_size=None):\n",
    "        self.total = total_size\n",
    "        self.update((block_num - self.last_block) * block_size)\n",
    "        self.last_block = block_num\n",
    "\n",
    "if not isfile('cifar-10-python.tar.gz'):\n",
    "    with DLProgress(unit='B', unit_scale=True, miniters=1, desc='CIFAR-10 Dataset') as pbar:\n",
    "        urlretrieve(\n",
    "            'https://www.cs.toronto.edu/~kriz/cifar-10-python.tar.gz',\n",
    "            'cifar-10-python.tar.gz',\n",
    "            pbar.hook)\n",
    "\n",
    "if not isdir(cifar10_dataset_folder_path):\n",
    "    with tarfile.open('cifar-10-python.tar.gz') as tar:\n",
    "        tar.extractall()\n",
    "        tar.close()\n",
    "\n",
    "\n",
    "tests.test_folder_path(cifar10_dataset_folder_path)"
   ]
  },
  {
   "cell_type": "markdown",
   "metadata": {
    "deletable": true,
    "editable": true
   },
   "source": [
    "## Explore the Data\n",
    "The dataset is broken into batches to prevent your machine from running out of memory.  The CIFAR-10 dataset consists of 5 batches, named `data_batch_1`, `data_batch_2`, etc.. Each batch contains the labels and images that are one of the following:\n",
    "* airplane\n",
    "* automobile\n",
    "* bird\n",
    "* cat\n",
    "* deer\n",
    "* dog\n",
    "* frog\n",
    "* horse\n",
    "* ship\n",
    "* truck\n",
    "\n",
    "Understanding a dataset is part of making predictions on the data.  Play around with the code cell below by changing the `batch_id` and `sample_id`. The `batch_id` is the id for a batch (1-5). The `sample_id` is the id for a image and label pair in the batch.\n",
    "\n",
    "Ask yourself \"What are all possible labels?\", \"What is the range of values for the image data?\", \"Are the labels in order or random?\".  Answers to questions like these will help you preprocess the data and end up with better predictions."
   ]
  },
  {
   "cell_type": "code",
   "execution_count": null,
   "metadata": {
    "collapsed": false,
    "deletable": true,
    "editable": true
   },
   "outputs": [],
   "source": [
    "%matplotlib inline\n",
    "%config InlineBackend.figure_format = 'retina'\n",
    "\n",
    "import helper\n",
    "import numpy as np\n",
    "\n",
    "# Explore the dataset\n",
    "batch_id = 1\n",
    "sample_id = 5\n",
    "helper.display_stats(cifar10_dataset_folder_path, batch_id, sample_id)"
   ]
  },
  {
   "cell_type": "markdown",
   "metadata": {
    "deletable": true,
    "editable": true
   },
   "source": [
    "## Implement Preprocess Functions\n",
    "### Normalize\n",
    "In the cell below, implement the `normalize` function to take in image data, `x`, and return it as a normalized Numpy array. The values should be in the range of 0 to 1, inclusive.  The return object should be the same shape as `x`."
   ]
  },
  {
   "cell_type": "code",
   "execution_count": null,
   "metadata": {
    "collapsed": false,
    "deletable": true,
    "editable": true
   },
   "outputs": [],
   "source": [
    "def normalize(x):\n",
    "    \"\"\"\n",
    "    Normalize a list of sample image data in the range of 0 to 1\n",
    "    : x: List of image data.  The image shape is (32, 32, 3)\n",
    "    : return: Numpy array of normalize data\n",
    "    \"\"\"\n",
    "    a = 0.0\n",
    "    b = 1.0\n",
    "    pix_min = 0\n",
    "    pix_max = 255\n",
    "    return a + ( ( (x - pix_min)*(b - a) )/( pix_max - pix_min ) )\n",
    "\n",
    "\n",
    "\"\"\"\n",
    "DON'T MODIFY ANYTHING IN THIS CELL THAT IS BELOW THIS LINE\n",
    "\"\"\"\n",
    "tests.test_normalize(normalize)"
   ]
  },
  {
   "cell_type": "markdown",
   "metadata": {
    "deletable": true,
    "editable": true
   },
   "source": [
    "### One-hot encode\n",
    "Just like the previous code cell, you'll be implementing a function for preprocessing.  This time, you'll implement the `one_hot_encode` function. The input, `x`, are a list of labels.  Implement the function to return the list of labels as One-Hot encoded Numpy array.  The possible values for labels are 0 to 9. The one-hot encoding function should return the same encoding for each value between each call to `one_hot_encode`.  Make sure to save the map of encodings outside the function.\n",
    "\n",
    "Hint: Don't reinvent the wheel."
   ]
  },
  {
   "cell_type": "code",
   "execution_count": null,
   "metadata": {
    "collapsed": false,
    "deletable": true,
    "editable": true
   },
   "outputs": [],
   "source": [
    "from sklearn.preprocessing import LabelBinarizer\n",
    "\n",
    "def one_hot_encode(x):\n",
    "    \"\"\"\n",
    "    One hot encode a list of sample labels. Return a one-hot encoded vector for each label.\n",
    "    : x: List of sample Labels\n",
    "    : return: Numpy array of one-hot encoded labels\n",
    "    \"\"\"\n",
    "    lb = LabelBinarizer(neg_label=0, pos_label=1, sparse_output=False)\n",
    "    lb.fit(np.array(list(range(10))))\n",
    "    return lb.transform(x)\n",
    "\n",
    "\n",
    "\"\"\"\n",
    "DON'T MODIFY ANYTHING IN THIS CELL THAT IS BELOW THIS LINE\n",
    "\"\"\"\n",
    "tests.test_one_hot_encode(one_hot_encode)"
   ]
  },
  {
   "cell_type": "markdown",
   "metadata": {
    "deletable": true,
    "editable": true
   },
   "source": [
    "### Randomize Data\n",
    "As you saw from exploring the data above, the order of the samples are randomized.  It doesn't hurt to randomize it again, but you don't need to for this dataset."
   ]
  },
  {
   "cell_type": "markdown",
   "metadata": {
    "deletable": true,
    "editable": true
   },
   "source": [
    "## Preprocess all the data and save it\n",
    "Running the code cell below will preprocess all the CIFAR-10 data and save it to file. The code below also uses 10% of the training data for validation."
   ]
  },
  {
   "cell_type": "code",
   "execution_count": null,
   "metadata": {
    "collapsed": false,
    "deletable": true,
    "editable": true
   },
   "outputs": [],
   "source": [
    "\"\"\"\n",
    "DON'T MODIFY ANYTHING IN THIS CELL\n",
    "\"\"\"\n",
    "# Preprocess Training, Validation, and Testing Data\n",
    "helper.preprocess_and_save_data(cifar10_dataset_folder_path, normalize, one_hot_encode)"
   ]
  },
  {
   "cell_type": "markdown",
   "metadata": {
    "deletable": true,
    "editable": true
   },
   "source": [
    "# Check Point\n",
    "This is your first checkpoint.  If you ever decide to come back to this notebook or have to restart the notebook, you can start from here.  The preprocessed data has been saved to disk."
   ]
  },
  {
   "cell_type": "code",
   "execution_count": 1,
   "metadata": {
    "collapsed": false,
    "deletable": true,
    "editable": true
   },
   "outputs": [],
   "source": [
    "\"\"\"\n",
    "DON'T MODIFY ANYTHING IN THIS CELL\n",
    "\"\"\"\n",
    "import pickle\n",
    "import problem_unittests as tests\n",
    "import helper\n",
    "\n",
    "# Load the Preprocessed Validation data\n",
    "valid_features, valid_labels = pickle.load(open('preprocess_validation.p', mode='rb'))"
   ]
  },
  {
   "cell_type": "markdown",
   "metadata": {
    "deletable": true,
    "editable": true
   },
   "source": [
    "## Build the network\n",
    "For the neural network, you'll build each layer into a function.  Most of the code you've seen has been outside of functions. To test your code more thoroughly, we require that you put each layer in a function.  This allows us to give you better feedback and test for simple mistakes using our unittests before you submit your project.\n",
    "\n",
    ">**Note:** If you're finding it hard to dedicate enough time for this course each week, we've provided a small shortcut to this part of the project. In the next couple of problems, you'll have the option to use classes from the [TensorFlow Layers](https://www.tensorflow.org/api_docs/python/tf/layers) or [TensorFlow Layers (contrib)](https://www.tensorflow.org/api_guides/python/contrib.layers) packages to build each layer, except the layers you build in the \"Convolutional and Max Pooling Layer\" section.  TF Layers is similar to Keras's and TFLearn's abstraction to layers, so it's easy to pickup.\n",
    "\n",
    ">However, if you would like to get the most out of this course, try to solve all the problems _without_ using anything from the TF Layers packages. You **can** still use classes from other packages that happen to have the same name as ones you find in TF Layers! For example, instead of using the TF Layers version of the `conv2d` class, [tf.layers.conv2d](https://www.tensorflow.org/api_docs/python/tf/layers/conv2d), you would want to use the TF Neural Network version of `conv2d`, [tf.nn.conv2d](https://www.tensorflow.org/api_docs/python/tf/nn/conv2d). \n",
    "\n",
    "Let's begin!\n",
    "\n",
    "### Input\n",
    "The neural network needs to read the image data, one-hot encoded labels, and dropout keep probability. Implement the following functions\n",
    "* Implement `neural_net_image_input`\n",
    " * Return a [TF Placeholder](https://www.tensorflow.org/api_docs/python/tf/placeholder)\n",
    " * Set the shape using `image_shape` with batch size set to `None`.\n",
    " * Name the TensorFlow placeholder \"x\" using the TensorFlow `name` parameter in the [TF Placeholder](https://www.tensorflow.org/api_docs/python/tf/placeholder).\n",
    "* Implement `neural_net_label_input`\n",
    " * Return a [TF Placeholder](https://www.tensorflow.org/api_docs/python/tf/placeholder)\n",
    " * Set the shape using `n_classes` with batch size set to `None`.\n",
    " * Name the TensorFlow placeholder \"y\" using the TensorFlow `name` parameter in the [TF Placeholder](https://www.tensorflow.org/api_docs/python/tf/placeholder).\n",
    "* Implement `neural_net_keep_prob_input`\n",
    " * Return a [TF Placeholder](https://www.tensorflow.org/api_docs/python/tf/placeholder) for dropout keep probability.\n",
    " * Name the TensorFlow placeholder \"keep_prob\" using the TensorFlow `name` parameter in the [TF Placeholder](https://www.tensorflow.org/api_docs/python/tf/placeholder).\n",
    "\n",
    "These names will be used at the end of the project to load your saved model.\n",
    "\n",
    "Note: `None` for shapes in TensorFlow allow for a dynamic size."
   ]
  },
  {
   "cell_type": "code",
   "execution_count": 2,
   "metadata": {
    "collapsed": false,
    "deletable": true,
    "editable": true
   },
   "outputs": [
    {
     "name": "stdout",
     "output_type": "stream",
     "text": [
      "Image Input Tests Passed.\n",
      "Label Input Tests Passed.\n",
      "Keep Prob Tests Passed.\n"
     ]
    }
   ],
   "source": [
    "import tensorflow as tf\n",
    "\n",
    "def neural_net_image_input(image_shape):\n",
    "    \"\"\"\n",
    "    Return a Tensor for a batch of image input\n",
    "    : image_shape: Shape of the images\n",
    "    : return: Tensor for image input.\n",
    "    \"\"\"\n",
    "    image_height = image_shape[0]\n",
    "    image_width = image_shape[1]\n",
    "    image_depth = image_shape[2]\n",
    "    return tf.placeholder(tf.float32, shape=[None, image_height , image_width, image_depth], name='x')\n",
    "\n",
    "def neural_net_label_input(n_classes):\n",
    "    \"\"\"\n",
    "    Return a Tensor for a batch of label input\n",
    "    : n_classes: Number of classes\n",
    "    : return: Tensor for label input.\n",
    "    \"\"\"\n",
    "    return tf.placeholder(tf.float32, [None, n_classes], name='y') \n",
    "\n",
    "\n",
    "def neural_net_keep_prob_input():\n",
    "    \"\"\"\n",
    "    Return a Tensor for keep probability\n",
    "    : return: Tensor for keep probability.\n",
    "    \"\"\"\n",
    "    return tf.placeholder(tf.float32, name='keep_prob')\n",
    "\n",
    "\n",
    "\"\"\"\n",
    "DON'T MODIFY ANYTHING IN THIS CELL THAT IS BELOW THIS LINE\n",
    "\"\"\"\n",
    "tf.reset_default_graph()\n",
    "tests.test_nn_image_inputs(neural_net_image_input)\n",
    "tests.test_nn_label_inputs(neural_net_label_input)\n",
    "tests.test_nn_keep_prob_inputs(neural_net_keep_prob_input)"
   ]
  },
  {
   "cell_type": "markdown",
   "metadata": {
    "deletable": true,
    "editable": true
   },
   "source": [
    "### Convolution and Max Pooling Layer\n",
    "Convolution layers have a lot of success with images. For this code cell, you should implement the function `conv2d_maxpool` to apply convolution then max pooling:\n",
    "* Create the weight and bias using `conv_ksize`, `conv_num_outputs` and the shape of `x_tensor`.\n",
    "* Apply a convolution to `x_tensor` using weight and `conv_strides`.\n",
    " * We recommend you use same padding, but you're welcome to use any padding.\n",
    "* Add bias\n",
    "* Add a nonlinear activation to the convolution.\n",
    "* Apply Max Pooling using `pool_ksize` and `pool_strides`.\n",
    " * We recommend you use same padding, but you're welcome to use any padding.\n",
    "\n",
    "**Note:** You **can't** use [TensorFlow Layers](https://www.tensorflow.org/api_docs/python/tf/layers) or [TensorFlow Layers (contrib)](https://www.tensorflow.org/api_guides/python/contrib.layers) for **this** layer, but you can still use TensorFlow's [Neural Network](https://www.tensorflow.org/api_docs/python/tf/nn) package. You may still use the shortcut option for all the **other** layers."
   ]
  },
  {
   "cell_type": "code",
   "execution_count": 3,
   "metadata": {
    "collapsed": false,
    "deletable": true,
    "editable": true
   },
   "outputs": [
    {
     "name": "stdout",
     "output_type": "stream",
     "text": [
      "Tests Passed\n"
     ]
    }
   ],
   "source": [
    "def conv2d_maxpool(x_tensor, conv_num_outputs, conv_ksize, conv_strides, pool_ksize, pool_strides):\n",
    "    \"\"\"\n",
    "    Apply convolution then max pooling to x_tensor\n",
    "    :param x_tensor: TensorFlow Tensor\n",
    "    :param conv_num_outputs: Number of outputs for the convolutional layer\n",
    "    :param conv_ksize: kernal size 2-D Tuple for the convolutional layer\n",
    "    :param conv_strides: Stride 2-D Tuple for convolution\n",
    "    :param pool_ksize: kernal size 2-D Tuple for pool\n",
    "    :param pool_strides: Stride 2-D Tuple for pool\n",
    "    : return: A tensor that represents convolution and max pooling of x_tensor\n",
    "    \"\"\"\n",
    "    \n",
    "    input_image_depth = x_tensor.get_shape().as_list()[-1]\n",
    "    weights = tf.Variable(tf.random_normal([conv_ksize[0], conv_ksize[1], input_image_depth, conv_num_outputs]))\n",
    "    biases = tf.Variable(tf.random_normal(shape=[conv_num_outputs]))\n",
    "\n",
    "    #CONV2D Layer - tf.nn.conv2d(input, filter, strides, padding)\n",
    "    x_tensor = tf.nn.conv2d(x_tensor, weights, strides=[1, conv_strides[0], conv_strides[1], 1], padding='SAME')\n",
    "    x_tensor = tf.nn.bias_add(x_tensor, biases)\n",
    "    \n",
    "    #Nonlinear activation\n",
    "    x_tensor = tf.nn.relu(x_tensor)\n",
    "    \n",
    "    #MAX_POOL Layer - tf.nn.max_pool(value, ksize, strides, padding)\n",
    "    x_tensor = tf.nn.max_pool(x_tensor, ksize=[1, *pool_ksize, 1], strides=[1, *pool_strides, 1], padding='SAME')\n",
    "    \n",
    "    return x_tensor\n",
    "\n",
    "\"\"\"\n",
    "DON'T MODIFY ANYTHING IN THIS CELL THAT IS BELOW THIS LINE\n",
    "\"\"\"\n",
    "tests.test_con_pool(conv2d_maxpool)"
   ]
  },
  {
   "cell_type": "markdown",
   "metadata": {
    "deletable": true,
    "editable": true
   },
   "source": [
    "### Flatten Layer\n",
    "Implement the `flatten` function to change the dimension of `x_tensor` from a 4-D tensor to a 2-D tensor.  The output should be the shape (*Batch Size*, *Flattened Image Size*). Shortcut option: you can use classes from the [TensorFlow Layers](https://www.tensorflow.org/api_docs/python/tf/layers) or [TensorFlow Layers (contrib)](https://www.tensorflow.org/api_guides/python/contrib.layers) packages for this layer. For more of a challenge, only use other TensorFlow packages."
   ]
  },
  {
   "cell_type": "code",
   "execution_count": 4,
   "metadata": {
    "collapsed": false,
    "deletable": true,
    "editable": true
   },
   "outputs": [
    {
     "name": "stdout",
     "output_type": "stream",
     "text": [
      "Tests Passed\n"
     ]
    }
   ],
   "source": [
    "def flatten(x_tensor):\n",
    "    \"\"\"\n",
    "    Flatten x_tensor to (Batch Size, Flattened Image Size)\n",
    "    : x_tensor: A tensor of size (Batch Size, ...), where ... are the image dimensions.\n",
    "    : return: A tensor of size (Batch Size, Flattened Image Size).\n",
    "    \"\"\"\n",
    "    return tf.contrib.layers.flatten(x_tensor)\n",
    "\n",
    "\n",
    "\"\"\"\n",
    "DON'T MODIFY ANYTHING IN THIS CELL THAT IS BELOW THIS LINE\n",
    "\"\"\"\n",
    "tests.test_flatten(flatten)"
   ]
  },
  {
   "cell_type": "markdown",
   "metadata": {
    "deletable": true,
    "editable": true
   },
   "source": [
    "### Fully-Connected Layer\n",
    "Implement the `fully_conn` function to apply a fully connected layer to `x_tensor` with the shape (*Batch Size*, *num_outputs*). Shortcut option: you can use classes from the [TensorFlow Layers](https://www.tensorflow.org/api_docs/python/tf/layers) or [TensorFlow Layers (contrib)](https://www.tensorflow.org/api_guides/python/contrib.layers) packages for this layer. For more of a challenge, only use other TensorFlow packages."
   ]
  },
  {
   "cell_type": "code",
   "execution_count": 5,
   "metadata": {
    "collapsed": false,
    "deletable": true,
    "editable": true
   },
   "outputs": [
    {
     "name": "stdout",
     "output_type": "stream",
     "text": [
      "Tests Passed\n"
     ]
    }
   ],
   "source": [
    "def fully_conn(x_tensor, num_outputs):\n",
    "    \"\"\"\n",
    "    Apply a fully connected layer to x_tensor using weight and bias\n",
    "    : x_tensor: A 2-D tensor where the first dimension is batch size.\n",
    "    : num_outputs: The number of output that the new tensor should be.\n",
    "    : return: A 2-D tensor where the second dimension is num_outputs.\n",
    "    \"\"\"\n",
    "    \n",
    "    return tf.contrib.layers.fully_connected(inputs=x_tensor, num_outputs=num_outputs, activation_fn=tf.nn.relu)\n",
    "\n",
    "\n",
    "\"\"\"\n",
    "DON'T MODIFY ANYTHING IN THIS CELL THAT IS BELOW THIS LINE\n",
    "\"\"\"\n",
    "tests.test_fully_conn(fully_conn)"
   ]
  },
  {
   "cell_type": "markdown",
   "metadata": {
    "deletable": true,
    "editable": true
   },
   "source": [
    "### Output Layer\n",
    "Implement the `output` function to apply a fully connected layer to `x_tensor` with the shape (*Batch Size*, *num_outputs*). Shortcut option: you can use classes from the [TensorFlow Layers](https://www.tensorflow.org/api_docs/python/tf/layers) or [TensorFlow Layers (contrib)](https://www.tensorflow.org/api_guides/python/contrib.layers) packages for this layer. For more of a challenge, only use other TensorFlow packages.\n",
    "\n",
    "**Note:** Activation, softmax, or cross entropy should **not** be applied to this."
   ]
  },
  {
   "cell_type": "code",
   "execution_count": 6,
   "metadata": {
    "collapsed": false,
    "deletable": true,
    "editable": true
   },
   "outputs": [
    {
     "name": "stdout",
     "output_type": "stream",
     "text": [
      "Tests Passed\n"
     ]
    }
   ],
   "source": [
    "def output(x_tensor, num_outputs):\n",
    "    \"\"\"\n",
    "    Apply a output layer to x_tensor using weight and bias\n",
    "    : x_tensor: A 2-D tensor where the first dimension is batch size.\n",
    "    : num_outputs: The number of output that the new tensor should be.\n",
    "    : return: A 2-D tensor where the second dimension is num_outputs.\n",
    "    \"\"\"\n",
    "    output_weight = tf.Variable(tf.random_normal(shape=[num_outputs, num_outputs], stddev=0.05), dtype=tf.float32)\n",
    "    output_bias = tf.Variable(tf.random_normal(shape=[num_outputs],dtype=tf.float32))\n",
    "    output_layer = tf.contrib.layers.fully_connected(x_tensor, num_outputs)\n",
    "    output_layer = tf.add(tf.matmul(output_layer, output_weight), output_bias)\n",
    "    return output_layer\n",
    "    #return tf.layers.dense(inputs=x_tensor, units=num_outputs, activation=None)\n",
    "\n",
    "\n",
    "\"\"\"\n",
    "DON'T MODIFY ANYTHING IN THIS CELL THAT IS BELOW THIS LINE\n",
    "\"\"\"\n",
    "tests.test_output(output)"
   ]
  },
  {
   "cell_type": "markdown",
   "metadata": {
    "deletable": true,
    "editable": true
   },
   "source": [
    "### Create Convolutional Model\n",
    "Implement the function `conv_net` to create a convolutional neural network model. The function takes in a batch of images, `x`, and outputs logits.  Use the layers you created above to create this model:\n",
    "\n",
    "* Apply 1, 2, or 3 Convolution and Max Pool layers\n",
    "* Apply a Flatten Layer\n",
    "* Apply 1, 2, or 3 Fully Connected Layers\n",
    "* Apply an Output Layer\n",
    "* Return the output\n",
    "* Apply [TensorFlow's Dropout](https://www.tensorflow.org/api_docs/python/tf/nn/dropout) to one or more layers in the model using `keep_prob`. "
   ]
  },
  {
   "cell_type": "code",
   "execution_count": 13,
   "metadata": {
    "collapsed": false,
    "deletable": true,
    "editable": true
   },
   "outputs": [
    {
     "name": "stdout",
     "output_type": "stream",
     "text": [
      "Neural Network Built!\n"
     ]
    }
   ],
   "source": [
    "def conv_net(x, keep_prob):\n",
    "    \"\"\"\n",
    "    Create a convolutional neural network model\n",
    "    : x: Placeholder tensor that holds image data.\n",
    "    : keep_prob: Placeholder tensor that hold dropout keep probability.\n",
    "    : return: Tensor that represents logits\n",
    "    \"\"\"\n",
    "    #Parameters\n",
    "    conv_strides_1 = (1, 1)\n",
    "    conv_ksize_1 = (5, 5)\n",
    "    conv_num_outputs_1 = 3\n",
    "    \n",
    "    conv_strides_2 = (2, 2)\n",
    "    conv_ksize_2 = (5, 5)\n",
    "    conv_num_outputs_2 = 12\n",
    "\n",
    "    num_outputs = 10\n",
    "    pool_ksize = (4, 4)\n",
    "    pool_strides = (2, 2)\n",
    "\n",
    "    # TODO: Apply 1, 2, or 3 Convolution and Max Pool layers\n",
    "    #    Play around with different number of outputs, kernel size and stride\n",
    "    # Function Definition from Above:\n",
    "    conv_layer_1 = conv2d_maxpool(x, conv_num_outputs_1, conv_ksize_1, conv_strides_1, pool_ksize, pool_strides)\n",
    "    #conv_layer_2 = conv2d_maxpool(conv_layer_1, conv_num_outputs_2, conv_ksize_2, conv_strides_2, pool_ksize, pool_strides)\n",
    "    \n",
    "    # TODO: Apply a Flatten Layer\n",
    "    # Function Definition from Above:\n",
    "    flattened_layer = flatten(conv_layer_1)\n",
    "\n",
    "    # TODO: Apply 1, 2, or 3 Fully Connected Layers\n",
    "    #    Play around with different number of outputs\n",
    "    # Function Definition from Above:\n",
    "    fullyconn_layer_1 = fully_conn(flattened_layer, 1024)\n",
    "    drop_layer = tf.nn.dropout(fullyconn_layer_1, keep_prob)\n",
    "    \n",
    "    # TODO: Apply an Output Layer\n",
    "    #    Set this to the number of classes\n",
    "    # Function Definition from Above:\n",
    "    output_layer = output(drop_layer, num_outputs)\n",
    "    \n",
    "    # TODO: return output\n",
    "    return output_layer\n",
    "\n",
    "\n",
    "\"\"\"\n",
    "DON'T MODIFY ANYTHING IN THIS CELL THAT IS BELOW THIS LINE\n",
    "\"\"\"\n",
    "\n",
    "##############################\n",
    "## Build the Neural Network ##\n",
    "##############################\n",
    "\n",
    "# Remove previous weights, bias, inputs, etc..\n",
    "tf.reset_default_graph()\n",
    "\n",
    "# Inputs\n",
    "x = neural_net_image_input((32, 32, 3))\n",
    "y = neural_net_label_input(10)\n",
    "keep_prob = neural_net_keep_prob_input()\n",
    "\n",
    "# Model\n",
    "logits = conv_net(x, keep_prob)\n",
    "\n",
    "# Name logits Tensor, so that is can be loaded from disk after training\n",
    "logits = tf.identity(logits, name='logits')\n",
    "\n",
    "# Loss and Optimizer\n",
    "cost = tf.reduce_mean(tf.nn.softmax_cross_entropy_with_logits(logits=logits, labels=y))\n",
    "optimizer = tf.train.AdamOptimizer().minimize(cost)\n",
    "\n",
    "# Accuracy\n",
    "correct_pred = tf.equal(tf.argmax(logits, 1), tf.argmax(y, 1))\n",
    "accuracy = tf.reduce_mean(tf.cast(correct_pred, tf.float32), name='accuracy')\n",
    "\n",
    "tests.test_conv_net(conv_net)"
   ]
  },
  {
   "cell_type": "markdown",
   "metadata": {
    "deletable": true,
    "editable": true
   },
   "source": [
    "## Train the Neural Network\n",
    "### Single Optimization\n",
    "Implement the function `train_neural_network` to do a single optimization.  The optimization should use `optimizer` to optimize in `session` with a `feed_dict` of the following:\n",
    "* `x` for image input\n",
    "* `y` for labels\n",
    "* `keep_prob` for keep probability for dropout\n",
    "\n",
    "This function will be called for each batch, so `tf.global_variables_initializer()` has already been called.\n",
    "\n",
    "Note: Nothing needs to be returned. This function is only optimizing the neural network."
   ]
  },
  {
   "cell_type": "code",
   "execution_count": 8,
   "metadata": {
    "collapsed": false,
    "deletable": true,
    "editable": true
   },
   "outputs": [
    {
     "name": "stdout",
     "output_type": "stream",
     "text": [
      "Tests Passed\n"
     ]
    }
   ],
   "source": [
    "def train_neural_network(session, optimizer, keep_probability, feature_batch, label_batch):\n",
    "    \"\"\"\n",
    "    Optimize the session on a batch of images and labels\n",
    "    : session: Current TensorFlow session\n",
    "    : optimizer: TensorFlow optimizer function\n",
    "    : keep_probability: keep probability\n",
    "    : feature_batch: Batch of Numpy image data\n",
    "    : label_batch: Batch of Numpy label data\n",
    "    \"\"\"\n",
    "    train_feed_dict = {\n",
    "        x: feature_batch,\n",
    "        y: label_batch,\n",
    "        keep_prob: keep_probability\n",
    "    }\n",
    "    session.run(optimizer, feed_dict=train_feed_dict)\n",
    "\n",
    "\n",
    "\"\"\"\n",
    "DON'T MODIFY ANYTHING IN THIS CELL THAT IS BELOW THIS LINE\n",
    "\"\"\"\n",
    "tests.test_train_nn(train_neural_network)"
   ]
  },
  {
   "cell_type": "markdown",
   "metadata": {
    "deletable": true,
    "editable": true
   },
   "source": [
    "### Show Stats\n",
    "Implement the function `print_stats` to print loss and validation accuracy.  Use the global variables `valid_features` and `valid_labels` to calculate validation accuracy.  Use a keep probability of `1.0` to calculate the loss and validation accuracy."
   ]
  },
  {
   "cell_type": "code",
   "execution_count": 9,
   "metadata": {
    "collapsed": false,
    "deletable": true,
    "editable": true
   },
   "outputs": [],
   "source": [
    "def print_stats(session, feature_batch, label_batch, cost, accuracy):\n",
    "    \"\"\"\n",
    "    Print information about loss and validation accuracy\n",
    "    : session: Current TensorFlow session\n",
    "    : feature_batch: Batch of Numpy image data\n",
    "    : label_batch: Batch of Numpy label data\n",
    "    : cost: TensorFlow cost function\n",
    "    : accuracy: TensorFlow accuracy function\n",
    "    \"\"\"\n",
    "    cur_loss = session.run(cost, feed_dict={x: feature_batch, y: label_batch, keep_prob:1.0})\n",
    "    val_accu = session.run(accuracy, feed_dict={x: valid_features, y: valid_labels, keep_prob:1.0})\n",
    "    \n",
    "    print('Loss: {:>8.3f} Valid Accuracy: {:<5.9f}'.format(\n",
    "        cur_loss,\n",
    "        val_accu))"
   ]
  },
  {
   "cell_type": "markdown",
   "metadata": {
    "deletable": true,
    "editable": true
   },
   "source": [
    "### Hyperparameters\n",
    "Tune the following parameters:\n",
    "* Set `epochs` to the number of iterations until the network stops learning or start overfitting\n",
    "* Set `batch_size` to the highest number that your machine has memory for.  Most people set them to common sizes of memory:\n",
    " * 64\n",
    " * 128\n",
    " * 256\n",
    " * ...\n",
    "* Set `keep_probability` to the probability of keeping a node using dropout"
   ]
  },
  {
   "cell_type": "code",
   "execution_count": 10,
   "metadata": {
    "collapsed": true,
    "deletable": true,
    "editable": true
   },
   "outputs": [],
   "source": [
    "# TODO: Tune Parameters\n",
    "epochs = 20\n",
    "batch_size = 256\n",
    "keep_probability = 0.75"
   ]
  },
  {
   "cell_type": "markdown",
   "metadata": {
    "deletable": true,
    "editable": true
   },
   "source": [
    "### Train on a Single CIFAR-10 Batch\n",
    "Instead of training the neural network on all the CIFAR-10 batches of data, let's use a single batch. This should save time while you iterate on the model to get a better accuracy.  Once the final validation accuracy is 50% or greater, run the model on all the data in the next section."
   ]
  },
  {
   "cell_type": "code",
   "execution_count": 14,
   "metadata": {
    "collapsed": false,
    "deletable": true,
    "editable": true
   },
   "outputs": [
    {
     "name": "stdout",
     "output_type": "stream",
     "text": [
      "Checking the Training on a Single Batch...\n",
      "Epoch  1, CIFAR-10 Batch 1:  Loss:    2.383 Valid Accuracy: 0.156800002\n",
      "Epoch  2, CIFAR-10 Batch 1:  Loss:    2.149 Valid Accuracy: 0.224599987\n",
      "Epoch  3, CIFAR-10 Batch 1:  Loss:    2.058 Valid Accuracy: 0.266599983\n",
      "Epoch  4, CIFAR-10 Batch 1:  Loss:    2.031 Valid Accuracy: 0.286399990\n",
      "Epoch  5, CIFAR-10 Batch 1:  Loss:    1.965 Valid Accuracy: 0.295599997\n",
      "Epoch  6, CIFAR-10 Batch 1:  Loss:    1.910 Valid Accuracy: 0.305599988\n",
      "Epoch  7, CIFAR-10 Batch 1:  Loss:    1.870 Valid Accuracy: 0.312599987\n",
      "Epoch  8, CIFAR-10 Batch 1:  Loss:    1.818 Valid Accuracy: 0.317000002\n",
      "Epoch  9, CIFAR-10 Batch 1:  Loss:    1.763 Valid Accuracy: 0.320799977\n",
      "Epoch 10, CIFAR-10 Batch 1:  Loss:    1.721 Valid Accuracy: 0.328399986\n",
      "Epoch 11, CIFAR-10 Batch 1:  Loss:    1.692 Valid Accuracy: 0.330999970\n",
      "Epoch 12, CIFAR-10 Batch 1:  Loss:    1.654 Valid Accuracy: 0.332800001\n",
      "Epoch 13, CIFAR-10 Batch 1:  Loss:    1.614 Valid Accuracy: 0.341399968\n",
      "Epoch 14, CIFAR-10 Batch 1:  Loss:    1.576 Valid Accuracy: 0.346399963\n",
      "Epoch 15, CIFAR-10 Batch 1:  Loss:    1.556 Valid Accuracy: 0.350600004\n",
      "Epoch 16, CIFAR-10 Batch 1:  Loss:    1.512 Valid Accuracy: 0.356000006\n",
      "Epoch 17, CIFAR-10 Batch 1:  Loss:    1.485 Valid Accuracy: 0.377399981\n",
      "Epoch 18, CIFAR-10 Batch 1:  Loss:    1.467 Valid Accuracy: 0.377399981\n",
      "Epoch 19, CIFAR-10 Batch 1:  Loss:    1.434 Valid Accuracy: 0.386400014\n",
      "Epoch 20, CIFAR-10 Batch 1:  Loss:    1.369 Valid Accuracy: 0.392199963\n"
     ]
    }
   ],
   "source": [
    "\"\"\"\n",
    "DON'T MODIFY ANYTHING IN THIS CELL\n",
    "\"\"\"\n",
    "print('Checking the Training on a Single Batch...')\n",
    "with tf.Session() as sess:\n",
    "    # Initializing the variables\n",
    "    sess.run(tf.global_variables_initializer())\n",
    "    \n",
    "    # Training cycle\n",
    "    for epoch in range(epochs):\n",
    "        batch_i = 1\n",
    "        for batch_features, batch_labels in helper.load_preprocess_training_batch(batch_i, batch_size):\n",
    "            train_neural_network(sess, optimizer, keep_probability, batch_features, batch_labels)\n",
    "        print('Epoch {:>2}, CIFAR-10 Batch {}:  '.format(epoch + 1, batch_i), end='')\n",
    "        print_stats(sess, batch_features, batch_labels, cost, accuracy)"
   ]
  },
  {
   "cell_type": "markdown",
   "metadata": {
    "deletable": true,
    "editable": true
   },
   "source": [
    "### Fully Train the Model\n",
    "Now that you got a good accuracy with a single CIFAR-10 batch, try it with all five batches."
   ]
  },
  {
   "cell_type": "code",
   "execution_count": 15,
   "metadata": {
    "collapsed": false,
    "deletable": true,
    "editable": true
   },
   "outputs": [
    {
     "name": "stdout",
     "output_type": "stream",
     "text": [
      "Training...\n",
      "Epoch  1, CIFAR-10 Batch 1:  Loss:    2.379 Valid Accuracy: 0.185599983\n",
      "Epoch  1, CIFAR-10 Batch 2:  Loss:    2.175 Valid Accuracy: 0.231999978\n",
      "Epoch  1, CIFAR-10 Batch 3:  Loss:    1.935 Valid Accuracy: 0.249200001\n",
      "Epoch  1, CIFAR-10 Batch 4:  Loss:    1.811 Valid Accuracy: 0.277399957\n",
      "Epoch  1, CIFAR-10 Batch 5:  Loss:    1.877 Valid Accuracy: 0.308999985\n",
      "Epoch  2, CIFAR-10 Batch 1:  Loss:    2.113 Valid Accuracy: 0.334800005\n",
      "Epoch  2, CIFAR-10 Batch 2:  Loss:    1.745 Valid Accuracy: 0.348199993\n",
      "Epoch  2, CIFAR-10 Batch 3:  Loss:    1.594 Valid Accuracy: 0.375799984\n",
      "Epoch  2, CIFAR-10 Batch 4:  Loss:    1.605 Valid Accuracy: 0.405399978\n",
      "Epoch  2, CIFAR-10 Batch 5:  Loss:    1.550 Valid Accuracy: 0.419599950\n",
      "Epoch  3, CIFAR-10 Batch 1:  Loss:    1.744 Valid Accuracy: 0.412599981\n",
      "Epoch  3, CIFAR-10 Batch 2:  Loss:    1.463 Valid Accuracy: 0.437999964\n",
      "Epoch  3, CIFAR-10 Batch 3:  Loss:    1.389 Valid Accuracy: 0.446999967\n",
      "Epoch  3, CIFAR-10 Batch 4:  Loss:    1.390 Valid Accuracy: 0.451799959\n",
      "Epoch  3, CIFAR-10 Batch 5:  Loss:    1.226 Valid Accuracy: 0.461199999\n",
      "Epoch  4, CIFAR-10 Batch 1:  Loss:    1.443 Valid Accuracy: 0.451399982\n",
      "Epoch  4, CIFAR-10 Batch 2:  Loss:    1.281 Valid Accuracy: 0.462599963\n",
      "Epoch  4, CIFAR-10 Batch 3:  Loss:    1.216 Valid Accuracy: 0.480399966\n",
      "Epoch  4, CIFAR-10 Batch 4:  Loss:    1.210 Valid Accuracy: 0.482599974\n",
      "Epoch  4, CIFAR-10 Batch 5:  Loss:    1.029 Valid Accuracy: 0.479799956\n",
      "Epoch  5, CIFAR-10 Batch 1:  Loss:    1.257 Valid Accuracy: 0.482199997\n",
      "Epoch  5, CIFAR-10 Batch 2:  Loss:    1.067 Valid Accuracy: 0.482799947\n",
      "Epoch  5, CIFAR-10 Batch 3:  Loss:    1.030 Valid Accuracy: 0.499799937\n",
      "Epoch  5, CIFAR-10 Batch 4:  Loss:    1.081 Valid Accuracy: 0.512199938\n",
      "Epoch  5, CIFAR-10 Batch 5:  Loss:    0.911 Valid Accuracy: 0.507999957\n",
      "Epoch  6, CIFAR-10 Batch 1:  Loss:    1.122 Valid Accuracy: 0.505999923\n",
      "Epoch  6, CIFAR-10 Batch 2:  Loss:    0.935 Valid Accuracy: 0.502999961\n",
      "Epoch  6, CIFAR-10 Batch 3:  Loss:    0.871 Valid Accuracy: 0.515199959\n",
      "Epoch  6, CIFAR-10 Batch 4:  Loss:    0.952 Valid Accuracy: 0.525399923\n",
      "Epoch  6, CIFAR-10 Batch 5:  Loss:    0.834 Valid Accuracy: 0.517399967\n",
      "Epoch  7, CIFAR-10 Batch 1:  Loss:    0.986 Valid Accuracy: 0.523999929\n",
      "Epoch  7, CIFAR-10 Batch 2:  Loss:    0.795 Valid Accuracy: 0.515399933\n",
      "Epoch  7, CIFAR-10 Batch 3:  Loss:    0.782 Valid Accuracy: 0.523799896\n",
      "Epoch  7, CIFAR-10 Batch 4:  Loss:    0.848 Valid Accuracy: 0.532999933\n",
      "Epoch  7, CIFAR-10 Batch 5:  Loss:    0.729 Valid Accuracy: 0.528399944\n",
      "Epoch  8, CIFAR-10 Batch 1:  Loss:    0.904 Valid Accuracy: 0.534199953\n",
      "Epoch  8, CIFAR-10 Batch 2:  Loss:    0.703 Valid Accuracy: 0.527999938\n",
      "Epoch  8, CIFAR-10 Batch 3:  Loss:    0.659 Valid Accuracy: 0.529399931\n",
      "Epoch  8, CIFAR-10 Batch 4:  Loss:    0.744 Valid Accuracy: 0.536199927\n",
      "Epoch  8, CIFAR-10 Batch 5:  Loss:    0.653 Valid Accuracy: 0.539399981\n",
      "Epoch  9, CIFAR-10 Batch 1:  Loss:    0.785 Valid Accuracy: 0.536799967\n",
      "Epoch  9, CIFAR-10 Batch 2:  Loss:    0.659 Valid Accuracy: 0.535199940\n",
      "Epoch  9, CIFAR-10 Batch 3:  Loss:    0.592 Valid Accuracy: 0.537599921\n",
      "Epoch  9, CIFAR-10 Batch 4:  Loss:    0.660 Valid Accuracy: 0.542400002\n",
      "Epoch  9, CIFAR-10 Batch 5:  Loss:    0.558 Valid Accuracy: 0.549599886\n",
      "Epoch 10, CIFAR-10 Batch 1:  Loss:    0.693 Valid Accuracy: 0.542799950\n",
      "Epoch 10, CIFAR-10 Batch 2:  Loss:    0.587 Valid Accuracy: 0.542199969\n",
      "Epoch 10, CIFAR-10 Batch 3:  Loss:    0.542 Valid Accuracy: 0.542599916\n",
      "Epoch 10, CIFAR-10 Batch 4:  Loss:    0.579 Valid Accuracy: 0.549599946\n",
      "Epoch 10, CIFAR-10 Batch 5:  Loss:    0.492 Valid Accuracy: 0.548399925\n",
      "Epoch 11, CIFAR-10 Batch 1:  Loss:    0.629 Valid Accuracy: 0.542599916\n",
      "Epoch 11, CIFAR-10 Batch 2:  Loss:    0.498 Valid Accuracy: 0.550999939\n",
      "Epoch 11, CIFAR-10 Batch 3:  Loss:    0.468 Valid Accuracy: 0.540799916\n",
      "Epoch 11, CIFAR-10 Batch 4:  Loss:    0.525 Valid Accuracy: 0.543999910\n",
      "Epoch 11, CIFAR-10 Batch 5:  Loss:    0.441 Valid Accuracy: 0.552799881\n",
      "Epoch 12, CIFAR-10 Batch 1:  Loss:    0.558 Valid Accuracy: 0.546399951\n",
      "Epoch 12, CIFAR-10 Batch 2:  Loss:    0.458 Valid Accuracy: 0.547799945\n",
      "Epoch 12, CIFAR-10 Batch 3:  Loss:    0.436 Valid Accuracy: 0.543799937\n",
      "Epoch 12, CIFAR-10 Batch 4:  Loss:    0.470 Valid Accuracy: 0.551799953\n",
      "Epoch 12, CIFAR-10 Batch 5:  Loss:    0.388 Valid Accuracy: 0.560799897\n",
      "Epoch 13, CIFAR-10 Batch 1:  Loss:    0.524 Valid Accuracy: 0.540799975\n",
      "Epoch 13, CIFAR-10 Batch 2:  Loss:    0.422 Valid Accuracy: 0.559999943\n",
      "Epoch 13, CIFAR-10 Batch 3:  Loss:    0.389 Valid Accuracy: 0.543599963\n",
      "Epoch 13, CIFAR-10 Batch 4:  Loss:    0.416 Valid Accuracy: 0.555399954\n",
      "Epoch 13, CIFAR-10 Batch 5:  Loss:    0.377 Valid Accuracy: 0.557199955\n",
      "Epoch 14, CIFAR-10 Batch 1:  Loss:    0.463 Valid Accuracy: 0.550199986\n",
      "Epoch 14, CIFAR-10 Batch 2:  Loss:    0.390 Valid Accuracy: 0.559599936\n",
      "Epoch 14, CIFAR-10 Batch 3:  Loss:    0.377 Valid Accuracy: 0.541599929\n",
      "Epoch 14, CIFAR-10 Batch 4:  Loss:    0.387 Valid Accuracy: 0.553599954\n",
      "Epoch 14, CIFAR-10 Batch 5:  Loss:    0.311 Valid Accuracy: 0.561999917\n",
      "Epoch 15, CIFAR-10 Batch 1:  Loss:    0.411 Valid Accuracy: 0.557999909\n",
      "Epoch 15, CIFAR-10 Batch 2:  Loss:    0.349 Valid Accuracy: 0.558799922\n",
      "Epoch 15, CIFAR-10 Batch 3:  Loss:    0.319 Valid Accuracy: 0.552999914\n",
      "Epoch 15, CIFAR-10 Batch 4:  Loss:    0.350 Valid Accuracy: 0.557999969\n",
      "Epoch 15, CIFAR-10 Batch 5:  Loss:    0.289 Valid Accuracy: 0.567399979\n",
      "Epoch 16, CIFAR-10 Batch 1:  Loss:    0.380 Valid Accuracy: 0.556799948\n",
      "Epoch 16, CIFAR-10 Batch 2:  Loss:    0.330 Valid Accuracy: 0.565199971\n",
      "Epoch 16, CIFAR-10 Batch 3:  Loss:    0.301 Valid Accuracy: 0.546399891\n",
      "Epoch 16, CIFAR-10 Batch 4:  Loss:    0.316 Valid Accuracy: 0.555599928\n",
      "Epoch 16, CIFAR-10 Batch 5:  Loss:    0.267 Valid Accuracy: 0.561799943\n",
      "Epoch 17, CIFAR-10 Batch 1:  Loss:    0.327 Valid Accuracy: 0.559199929\n",
      "Epoch 17, CIFAR-10 Batch 2:  Loss:    0.317 Valid Accuracy: 0.568999946\n",
      "Epoch 17, CIFAR-10 Batch 3:  Loss:    0.284 Valid Accuracy: 0.551799953\n",
      "Epoch 17, CIFAR-10 Batch 4:  Loss:    0.292 Valid Accuracy: 0.563199878\n",
      "Epoch 17, CIFAR-10 Batch 5:  Loss:    0.217 Valid Accuracy: 0.562199891\n",
      "Epoch 18, CIFAR-10 Batch 1:  Loss:    0.294 Valid Accuracy: 0.557599902\n",
      "Epoch 18, CIFAR-10 Batch 2:  Loss:    0.267 Valid Accuracy: 0.567999959\n",
      "Epoch 18, CIFAR-10 Batch 3:  Loss:    0.258 Valid Accuracy: 0.553599954\n",
      "Epoch 18, CIFAR-10 Batch 4:  Loss:    0.251 Valid Accuracy: 0.559799969\n",
      "Epoch 18, CIFAR-10 Batch 5:  Loss:    0.202 Valid Accuracy: 0.572199941\n",
      "Epoch 19, CIFAR-10 Batch 1:  Loss:    0.282 Valid Accuracy: 0.557199955\n",
      "Epoch 19, CIFAR-10 Batch 2:  Loss:    0.264 Valid Accuracy: 0.559399903\n",
      "Epoch 19, CIFAR-10 Batch 3:  Loss:    0.258 Valid Accuracy: 0.556799889\n",
      "Epoch 19, CIFAR-10 Batch 4:  Loss:    0.241 Valid Accuracy: 0.565199912\n",
      "Epoch 19, CIFAR-10 Batch 5:  Loss:    0.207 Valid Accuracy: 0.566599965\n",
      "Epoch 20, CIFAR-10 Batch 1:  Loss:    0.254 Valid Accuracy: 0.556199908\n",
      "Epoch 20, CIFAR-10 Batch 2:  Loss:    0.234 Valid Accuracy: 0.568199933\n",
      "Epoch 20, CIFAR-10 Batch 3:  Loss:    0.244 Valid Accuracy: 0.556799948\n",
      "Epoch 20, CIFAR-10 Batch 4:  Loss:    0.213 Valid Accuracy: 0.563199937\n",
      "Epoch 20, CIFAR-10 Batch 5:  Loss:    0.191 Valid Accuracy: 0.566399932\n"
     ]
    }
   ],
   "source": [
    "\"\"\"\n",
    "DON'T MODIFY ANYTHING IN THIS CELL\n",
    "\"\"\"\n",
    "save_model_path = './image_classification'\n",
    "\n",
    "print('Training...')\n",
    "with tf.Session() as sess:\n",
    "    # Initializing the variables\n",
    "    sess.run(tf.global_variables_initializer())\n",
    "    \n",
    "    # Training cycle\n",
    "    for epoch in range(epochs):\n",
    "        # Loop over all batches\n",
    "        n_batches = 5\n",
    "        for batch_i in range(1, n_batches + 1):\n",
    "            for batch_features, batch_labels in helper.load_preprocess_training_batch(batch_i, batch_size):\n",
    "                train_neural_network(sess, optimizer, keep_probability, batch_features, batch_labels)\n",
    "            print('Epoch {:>2}, CIFAR-10 Batch {}:  '.format(epoch + 1, batch_i), end='')\n",
    "            print_stats(sess, batch_features, batch_labels, cost, accuracy)\n",
    "            \n",
    "    # Save Model\n",
    "    saver = tf.train.Saver()\n",
    "    save_path = saver.save(sess, save_model_path)"
   ]
  },
  {
   "cell_type": "markdown",
   "metadata": {
    "deletable": true,
    "editable": true
   },
   "source": [
    "# Checkpoint\n",
    "The model has been saved to disk.\n",
    "## Test Model\n",
    "Test your model against the test dataset.  This will be your final accuracy. You should have an accuracy greater than 50%. If you don't, keep tweaking the model architecture and parameters."
   ]
  },
  {
   "cell_type": "code",
   "execution_count": 16,
   "metadata": {
    "collapsed": false,
    "deletable": true,
    "editable": true
   },
   "outputs": [
    {
     "name": "stdout",
     "output_type": "stream",
     "text": [
      "Testing Accuracy: 0.5708984375\n",
      "\n"
     ]
    },
    {
     "data": {
      "image/png": "[encoded data removed]",
      "text/plain": [
       "<matplotlib.figure.Figure at 0x7f6bd4071710>"
      ]
     },
     "metadata": {
      "image/png": {
       "height": 319,
       "width": 355
      }
     },
     "output_type": "display_data"
    }
   ],
   "source": [
    "\"\"\"\n",
    "DON'T MODIFY ANYTHING IN THIS CELL\n",
    "\"\"\"\n",
    "%matplotlib inline\n",
    "%config InlineBackend.figure_format = 'retina'\n",
    "\n",
    "import tensorflow as tf\n",
    "import pickle\n",
    "import helper\n",
    "import random\n",
    "\n",
    "# Set batch size if not already set\n",
    "try:\n",
    "    if batch_size:\n",
    "        pass\n",
    "except NameError:\n",
    "    batch_size = 64\n",
    "\n",
    "save_model_path = './image_classification'\n",
    "n_samples = 4\n",
    "top_n_predictions = 3\n",
    "\n",
    "def test_model():\n",
    "    \"\"\"\n",
    "    Test the saved model against the test dataset\n",
    "    \"\"\"\n",
    "\n",
    "    test_features, test_labels = pickle.load(open('preprocess_training.p', mode='rb'))\n",
    "    loaded_graph = tf.Graph()\n",
    "\n",
    "    with tf.Session(graph=loaded_graph) as sess:\n",
    "        # Load model\n",
    "        loader = tf.train.import_meta_graph(save_model_path + '.meta')\n",
    "        loader.restore(sess, save_model_path)\n",
    "\n",
    "        # Get Tensors from loaded model\n",
    "        loaded_x = loaded_graph.get_tensor_by_name('x:0')\n",
    "        loaded_y = loaded_graph.get_tensor_by_name('y:0')\n",
    "        loaded_keep_prob = loaded_graph.get_tensor_by_name('keep_prob:0')\n",
    "        loaded_logits = loaded_graph.get_tensor_by_name('logits:0')\n",
    "        loaded_acc = loaded_graph.get_tensor_by_name('accuracy:0')\n",
    "        \n",
    "        # Get accuracy in batches for memory limitations\n",
    "        test_batch_acc_total = 0\n",
    "        test_batch_count = 0\n",
    "        \n",
    "        for train_feature_batch, train_label_batch in helper.batch_features_labels(test_features, test_labels, batch_size):\n",
    "            test_batch_acc_total += sess.run(\n",
    "                loaded_acc,\n",
    "                feed_dict={loaded_x: train_feature_batch, loaded_y: train_label_batch, loaded_keep_prob: 1.0})\n",
    "            test_batch_count += 1\n",
    "\n",
    "        print('Testing Accuracy: {}\\n'.format(test_batch_acc_total/test_batch_count))\n",
    "\n",
    "        # Print Random Samples\n",
    "        random_test_features, random_test_labels = tuple(zip(*random.sample(list(zip(test_features, test_labels)), n_samples)))\n",
    "        random_test_predictions = sess.run(\n",
    "            tf.nn.top_k(tf.nn.softmax(loaded_logits), top_n_predictions),\n",
    "            feed_dict={loaded_x: random_test_features, loaded_y: random_test_labels, loaded_keep_prob: 1.0})\n",
    "        helper.display_image_predictions(random_test_features, random_test_labels, random_test_predictions)\n",
    "\n",
    "\n",
    "test_model()"
   ]
  },
  {
   "cell_type": "markdown",
   "metadata": {
    "deletable": true,
    "editable": true
   },
   "source": [
    "## Why 50-70% Accuracy?\n",
    "You might be wondering why you can't get an accuracy any higher. First things first, 50% isn't bad for a simple CNN.  Pure guessing would get you 10% accuracy. However, you might notice people are getting scores [well above 70%](http://rodrigob.github.io/are_we_there_yet/build/classification_datasets_results.html#43494641522d3130).  That's because we haven't taught you all there is to know about neural networks. We still need to cover a few more techniques.\n",
    "## Submitting This Project\n",
    "When submitting this project, make sure to run all the cells before saving the notebook.  Save the notebook file as \"dlnd_image_classification.ipynb\" and save it as a HTML file under \"File\" -> \"Download as\".  Include the \"helper.py\" and \"problem_unittests.py\" files in your submission."
   ]
  }
 ],
 "metadata": {
  "anaconda-cloud": {},
  "kernelspec": {
   "display_name": "Python 3",
   "language": "python",
   "name": "python3"
  },
  "language_info": {
   "codemirror_mode": {
    "name": "ipython",
    "version": 3
   },
   "file_extension": ".py",
   "mimetype": "text/x-python",
   "name": "python",
   "nbconvert_exporter": "python",
   "pygments_lexer": "ipython3",
   "version": "3.5.2"
  },
  "widgets": {
   "state": {},
   "version": "1.1.2"
  }
 },
 "nbformat": 4,
 "nbformat_minor": 0
}
